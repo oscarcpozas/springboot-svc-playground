{
 "cells": [
  {
   "metadata": {
    "ExecuteTime": {
     "end_time": "2024-07-06T18:24:49.766569Z",
     "start_time": "2024-07-06T18:24:49.761179Z"
    }
   },
   "cell_type": "code",
   "source": "%useLatestDescriptors",
   "outputs": [],
   "execution_count": 17
  },
  {
   "metadata": {
    "ExecuteTime": {
     "end_time": "2024-07-06T18:24:53.460723Z",
     "start_time": "2024-07-06T18:24:49.770070Z"
    }
   },
   "cell_type": "code",
   "source": "%use ktor-client, kandy",
   "outputs": [],
   "execution_count": 18
  },
  {
   "metadata": {
    "ExecuteTime": {
     "end_time": "2024-07-06T18:32:02.824291Z",
     "start_time": "2024-07-06T18:32:01.234412Z"
    }
   },
   "cell_type": "code",
   "source": [
    "import java.time.ZonedDateTime\n",
    "import java.time.format.DateTimeFormatter\n",
    "\n",
    "val playerName: String = \"TestAshOn${ZonedDateTime.now().format(DateTimeFormatter.ofPattern(\"yyyy-MM-dd'T'HH:mm:ss'Z'\"))}\""
   ],
   "outputs": [],
   "execution_count": 22
  },
  {
   "metadata": {
    "ExecuteTime": {
     "end_time": "2024-07-06T18:32:06.776668Z",
     "start_time": "2024-07-06T18:32:06.045390Z"
    }
   },
   "cell_type": "code",
   "source": [
    "import io.ktor.client.request.setBody\n",
    "import io.ktor.http.contentType\n",
    "import io.ktor.http.ContentType\n",
    "\n",
    "http.post(\"http://localhost:8080/public/v1/player\") { \n",
    "    contentType(ContentType.Application.Json)\n",
    "    setBody(\n",
    "        \"\"\"\n",
    "            {\n",
    "                \"name\": \"$playerName\"\n",
    "            }\n",
    "       \"\"\".trimIndent()\n",
    "    )\n",
    " }"
   ],
   "outputs": [
    {
     "data": {
      "text/plain": [
       "HttpResponse[http://localhost:8080/public/v1/player, 200 ]"
      ]
     },
     "execution_count": 23,
     "metadata": {},
     "output_type": "execute_result"
    }
   ],
   "execution_count": 23
  }
 ],
 "metadata": {
  "kernelspec": {
   "display_name": "Kotlin",
   "language": "kotlin",
   "name": "kotlin"
  },
  "language_info": {
   "name": "kotlin",
   "version": "1.9.23",
   "mimetype": "text/x-kotlin",
   "file_extension": ".kt",
   "pygments_lexer": "kotlin",
   "codemirror_mode": "text/x-kotlin",
   "nbconvert_exporter": ""
  }
 },
 "nbformat": 4,
 "nbformat_minor": 0
}
